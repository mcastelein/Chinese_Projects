{
 "cells": [
  {
   "cell_type": "code",
   "execution_count": 65,
   "id": "007a1901",
   "metadata": {},
   "outputs": [],
   "source": [
    "import pandas as pd\n",
    "import numpy as np\n",
    "# Read file xlsx\n",
    "excel_data = pd.read_excel('C:/Users/mpcas/Documents/Chinese Learning/hsk-words-separated_final.xlsx')\n",
    "# Convert to dataframe and specific fields\n",
    "df = pd.DataFrame(excel_data, columns=['HSK1', 'HSK2', 'HSK3', 'HSK4','HSK5','HSK6'])\n",
    "# Return a list\n",
    "data = df.values.tolist()"
   ]
  },
  {
   "cell_type": "code",
   "execution_count": 66,
   "id": "64426a53",
   "metadata": {},
   "outputs": [
    {
     "data": {
      "text/html": [
       "<div>\n",
       "<style scoped>\n",
       "    .dataframe tbody tr th:only-of-type {\n",
       "        vertical-align: middle;\n",
       "    }\n",
       "\n",
       "    .dataframe tbody tr th {\n",
       "        vertical-align: top;\n",
       "    }\n",
       "\n",
       "    .dataframe thead th {\n",
       "        text-align: right;\n",
       "    }\n",
       "</style>\n",
       "<table border=\"1\" class=\"dataframe\">\n",
       "  <thead>\n",
       "    <tr style=\"text-align: right;\">\n",
       "      <th></th>\n",
       "      <th>HSK1</th>\n",
       "      <th>HSK2</th>\n",
       "      <th>HSK3</th>\n",
       "      <th>HSK4</th>\n",
       "      <th>HSK5</th>\n",
       "      <th>HSK6</th>\n",
       "    </tr>\n",
       "  </thead>\n",
       "  <tbody>\n",
       "    <tr>\n",
       "      <th>0</th>\n",
       "      <td>上</td>\n",
       "      <td>两</td>\n",
       "      <td>难过</td>\n",
       "      <td>与</td>\n",
       "      <td>乖</td>\n",
       "      <td>丁</td>\n",
       "    </tr>\n",
       "    <tr>\n",
       "      <th>1</th>\n",
       "      <td>喂</td>\n",
       "      <td>也</td>\n",
       "      <td>需要</td>\n",
       "      <td>丢</td>\n",
       "      <td>岸</td>\n",
       "      <td>愈</td>\n",
       "    </tr>\n",
       "    <tr>\n",
       "      <th>2</th>\n",
       "      <td>来</td>\n",
       "      <td>从</td>\n",
       "      <td>面包</td>\n",
       "      <td>举</td>\n",
       "      <td>洒</td>\n",
       "      <td>渣</td>\n",
       "    </tr>\n",
       "    <tr>\n",
       "      <th>3</th>\n",
       "      <td>九</td>\n",
       "      <td>件</td>\n",
       "      <td>音乐</td>\n",
       "      <td>之</td>\n",
       "      <td>诗</td>\n",
       "      <td>跌</td>\n",
       "    </tr>\n",
       "    <tr>\n",
       "      <th>4</th>\n",
       "      <td>后面</td>\n",
       "      <td>再</td>\n",
       "      <td>饮料</td>\n",
       "      <td>乱</td>\n",
       "      <td>与其</td>\n",
       "      <td>严寒</td>\n",
       "    </tr>\n",
       "    <tr>\n",
       "      <th>...</th>\n",
       "      <td>...</td>\n",
       "      <td>...</td>\n",
       "      <td>...</td>\n",
       "      <td>...</td>\n",
       "      <td>...</td>\n",
       "      <td>...</td>\n",
       "    </tr>\n",
       "    <tr>\n",
       "      <th>2495</th>\n",
       "      <td>NaN</td>\n",
       "      <td>NaN</td>\n",
       "      <td>NaN</td>\n",
       "      <td>NaN</td>\n",
       "      <td>NaN</td>\n",
       "      <td>骨干</td>\n",
       "    </tr>\n",
       "    <tr>\n",
       "      <th>2496</th>\n",
       "      <td>NaN</td>\n",
       "      <td>NaN</td>\n",
       "      <td>NaN</td>\n",
       "      <td>NaN</td>\n",
       "      <td>NaN</td>\n",
       "      <td>双胞胎</td>\n",
       "    </tr>\n",
       "    <tr>\n",
       "      <th>2497</th>\n",
       "      <td>NaN</td>\n",
       "      <td>NaN</td>\n",
       "      <td>NaN</td>\n",
       "      <td>NaN</td>\n",
       "      <td>NaN</td>\n",
       "      <td>争先恐后</td>\n",
       "    </tr>\n",
       "    <tr>\n",
       "      <th>2498</th>\n",
       "      <td>NaN</td>\n",
       "      <td>NaN</td>\n",
       "      <td>NaN</td>\n",
       "      <td>NaN</td>\n",
       "      <td>NaN</td>\n",
       "      <td>无忧无虑</td>\n",
       "    </tr>\n",
       "    <tr>\n",
       "      <th>2499</th>\n",
       "      <td>NaN</td>\n",
       "      <td>NaN</td>\n",
       "      <td>NaN</td>\n",
       "      <td>NaN</td>\n",
       "      <td>NaN</td>\n",
       "      <td>礼尚往来</td>\n",
       "    </tr>\n",
       "  </tbody>\n",
       "</table>\n",
       "<p>2500 rows × 6 columns</p>\n",
       "</div>"
      ],
      "text/plain": [
       "     HSK1 HSK2 HSK3 HSK4 HSK5  HSK6\n",
       "0       上    两   难过    与    乖     丁\n",
       "1       喂    也   需要    丢    岸     愈\n",
       "2       来    从   面包    举    洒     渣\n",
       "3       九    件   音乐    之    诗     跌\n",
       "4      后面    再   饮料    乱   与其    严寒\n",
       "...   ...  ...  ...  ...  ...   ...\n",
       "2495  NaN  NaN  NaN  NaN  NaN    骨干\n",
       "2496  NaN  NaN  NaN  NaN  NaN   双胞胎\n",
       "2497  NaN  NaN  NaN  NaN  NaN  争先恐后\n",
       "2498  NaN  NaN  NaN  NaN  NaN  无忧无虑\n",
       "2499  NaN  NaN  NaN  NaN  NaN  礼尚往来\n",
       "\n",
       "[2500 rows x 6 columns]"
      ]
     },
     "execution_count": 66,
     "metadata": {},
     "output_type": "execute_result"
    }
   ],
   "source": [
    "df"
   ]
  },
  {
   "cell_type": "code",
   "execution_count": 67,
   "id": "7100646f",
   "metadata": {},
   "outputs": [],
   "source": [
    "hsk1 = pd.Series.tolist(df['HSK1'])\n",
    "hsk2 = pd.Series.tolist(df['HSK2'])\n",
    "hsk3 = pd.Series.tolist(df['HSK3'])\n",
    "hsk4 = pd.Series.tolist(df['HSK4'])\n",
    "hsk5 = pd.Series.tolist(df['HSK5'])\n",
    "hsk6 = pd.Series.tolist(df['HSK6'])"
   ]
  },
  {
   "cell_type": "code",
   "execution_count": 15,
   "id": "1a35ad6b",
   "metadata": {},
   "outputs": [],
   "source": [
    "str = '对不起我的中文不好，对不起对不 起，我只想跟你当朋友'"
   ]
  },
  {
   "cell_type": "code",
   "execution_count": 16,
   "id": "517c105e",
   "metadata": {},
   "outputs": [],
   "source": [
    "new_str = str.replace(\"，\",\"\").replace(\" \",\"\")"
   ]
  },
  {
   "cell_type": "code",
   "execution_count": 17,
   "id": "08ae3f73",
   "metadata": {},
   "outputs": [
    {
     "name": "stdout",
     "output_type": "stream",
     "text": [
      "对不起我的中文不好对不起对不起我只想跟你当朋友\n"
     ]
    }
   ],
   "source": [
    "print(new_str)"
   ]
  },
  {
   "cell_type": "code",
   "execution_count": 21,
   "id": "e108d7d4",
   "metadata": {},
   "outputs": [],
   "source": [
    "new_list = []\n",
    "\n",
    "for i in new_str:\n",
    "    new_list.append(i)"
   ]
  },
  {
   "cell_type": "code",
   "execution_count": 22,
   "id": "71c7b097",
   "metadata": {},
   "outputs": [
    {
     "name": "stdout",
     "output_type": "stream",
     "text": [
      "['对', '不', '起', '我', '的', '中', '文', '不', '好', '对', '不', '起', '对', '不', '起', '我', '只', '想', '跟', '你', '当', '朋', '友']\n"
     ]
    }
   ],
   "source": [
    "print(new_list)"
   ]
  },
  {
   "cell_type": "code",
   "execution_count": 46,
   "id": "fa761007",
   "metadata": {},
   "outputs": [],
   "source": [
    "easy = df['HSK1']\n",
    "medium = ['的','朋', '友']\n",
    "hard = ['跟']"
   ]
  },
  {
   "cell_type": "code",
   "execution_count": 31,
   "id": "1536bd52",
   "metadata": {},
   "outputs": [
    {
     "data": {
      "text/plain": [
       "23"
      ]
     },
     "execution_count": 31,
     "metadata": {},
     "output_type": "execute_result"
    }
   ],
   "source": [
    "len(new_list)"
   ]
  },
  {
   "cell_type": "code",
   "execution_count": 69,
   "id": "57414e78",
   "metadata": {},
   "outputs": [
    {
     "name": "stdout",
     "output_type": "stream",
     "text": [
      "10\n",
      "3\n",
      "2\n",
      "1\n",
      "0\n",
      "0\n",
      "7\n"
     ]
    }
   ],
   "source": [
    "hsk1_count = 0\n",
    "hsk2_count = 0\n",
    "hsk3_count = 0\n",
    "hsk4_count = 0\n",
    "hsk5_count = 0\n",
    "hsk6_count = 0\n",
    "other_count = 0\n",
    "hsk1_list = []\n",
    "hsk2_list = []\n",
    "hsk3_list = []\n",
    "hsk4_list = []\n",
    "hsk5_list = []\n",
    "hsk6_list = []\n",
    "other_list = []\n",
    "\n",
    "for i in new_list:\n",
    "    if i in hsk1:\n",
    "        hsk1_count+=1\n",
    "        hsk1_list.append(i)\n",
    "    elif i in hsk2:\n",
    "        hsk2_count+=1\n",
    "        hsk2_list.append(i)\n",
    "    elif i in hsk3:\n",
    "        hsk3_count+=1\n",
    "        hsk3_list.append(i)\n",
    "    elif i in hsk4:\n",
    "        hsk4_count+=1\n",
    "        hsk4_list.append(i)\n",
    "    elif i in hsk5:\n",
    "        hsk5_count+=1\n",
    "        hsk5_list.append(i)\n",
    "    elif i in hsk6:\n",
    "        hsk6_count+=1\n",
    "        hsk6_list.append(i)\n",
    "    else:\n",
    "        other_count+=1\n",
    "        other_list.append(i)\n",
    "        \n",
    "print(hsk1_count)\n",
    "print(hsk2_count)\n",
    "print(hsk3_count)\n",
    "print(hsk4_count)\n",
    "print(hsk5_count)\n",
    "print(hsk6_count)\n",
    "print(other_count)"
   ]
  },
  {
   "cell_type": "code",
   "execution_count": 70,
   "id": "62d40713",
   "metadata": {},
   "outputs": [
    {
     "data": {
      "text/plain": [
       "['不', '我', '的', '不', '好', '不', '不', '我', '想', '你']"
      ]
     },
     "execution_count": 70,
     "metadata": {},
     "output_type": "execute_result"
    }
   ],
   "source": [
    "hsk1_list"
   ]
  }
 ],
 "metadata": {
  "kernelspec": {
   "display_name": "Python 3 (ipykernel)",
   "language": "python",
   "name": "python3"
  },
  "language_info": {
   "codemirror_mode": {
    "name": "ipython",
    "version": 3
   },
   "file_extension": ".py",
   "mimetype": "text/x-python",
   "name": "python",
   "nbconvert_exporter": "python",
   "pygments_lexer": "ipython3",
   "version": "3.9.7"
  }
 },
 "nbformat": 4,
 "nbformat_minor": 5
}
